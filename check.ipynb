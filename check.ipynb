{
 "cells": [
  {
   "cell_type": "code",
   "execution_count": 35,
   "metadata": {},
   "outputs": [],
   "source": [
    "def merge(nums1, m, nums2, n):\n",
    "    \"\"\"\n",
    "    :type nums1: List[int]\n",
    "    :type m: int\n",
    "    :type nums2: List[int]\n",
    "    :type n: int\n",
    "    :rtype: None Do not return anything, modify nums1 in-place instead.\n",
    "    \"\"\"\n",
    "    i, j = 0, 0\n",
    "    ret = []\n",
    "    while i<m+n and j<n:\n",
    "        print(f\"{nums1[i]} is being compared with {nums2[j]}\")\n",
    "        if nums1[i] == 0 and i>m-1:\n",
    "            nums1.insert(i, nums2[j])\n",
    "            nums1.pop()\n",
    "            i+=1\n",
    "            j+=1\n",
    "        elif nums1[i]<nums2[j]:\n",
    "            i+=1\n",
    "        else:\n",
    "            nums1.insert(i, nums2[j])\n",
    "            nums1.pop()\n",
    "            i+=1\n",
    "            j+=1\n",
    "    else:\n",
    "        print(i,j)"
   ]
  },
  {
   "cell_type": "code",
   "execution_count": 36,
   "metadata": {},
   "outputs": [
    {
     "name": "stdout",
     "output_type": "stream",
     "text": [
      "-1 is being compared with -1\n",
      "-1 is being compared with -1\n",
      "-1 is being compared with 0\n",
      "0 is being compared with 0\n",
      "0 is being compared with 0\n",
      "0 is being compared with 1\n",
      "0 is being compared with 2\n",
      "7 6\n"
     ]
    },
    {
     "data": {
      "text/plain": [
       "[-1, -1, -1, 0, 0, 1, 2, 0, 0, 0, 3]"
      ]
     },
     "execution_count": 36,
     "metadata": {},
     "output_type": "execute_result"
    }
   ],
   "source": [
    "nums1 = [-1,0,0,0,3,0,0,0,0,0,0]\n",
    "merge(nums1,5, [-1,-1,0,0,1,2], 6)\n",
    "nums1"
   ]
  },
  {
   "cell_type": "code",
   "execution_count": null,
   "metadata": {},
   "outputs": [],
   "source": []
  }
 ],
 "metadata": {
  "kernelspec": {
   "display_name": "Python 3",
   "language": "python",
   "name": "python3"
  },
  "language_info": {
   "codemirror_mode": {
    "name": "ipython",
    "version": 3
   },
   "file_extension": ".py",
   "mimetype": "text/x-python",
   "name": "python",
   "nbconvert_exporter": "python",
   "pygments_lexer": "ipython3",
   "version": "3.10.6"
  }
 },
 "nbformat": 4,
 "nbformat_minor": 2
}
